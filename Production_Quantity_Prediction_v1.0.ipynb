{
  "cells": [
    {
      "cell_type": "code",
      "execution_count": null,
      "metadata": {
        "id": "az4ahn-zRJbU"
      },
      "outputs": [],
      "source": [
        "import numpy as np \n",
        "import pandas as pd\n",
        "import seaborn as sns\n",
        "import matplotlib as mpl\n",
        "import matplotlib.pyplot as plt"
      ]
    },
    {
      "cell_type": "code",
      "execution_count": null,
      "metadata": {
        "id": "V-x4y-rCJsOM"
      },
      "outputs": [],
      "source": [
        "from sklearn.model_selection import train_test_split\n",
        "from sklearn.model_selection import cross_val_score\n",
        "from sklearn.impute import SimpleImputer\n",
        "from sklearn.preprocessing import OrdinalEncoder\n",
        "from sklearn.preprocessing import OneHotEncoder\n",
        "from sklearn.metrics import accuracy_score\n",
        "from sklearn.model_selection import StratifiedKFold\n",
        "from sklearn.model_selection import KFold\n",
        "from xgboost import XGBRegressor\n",
        "\n",
        "from sklearn.pipeline import Pipeline\n",
        "from sklearn.compose import ColumnTransformer\n",
        "from sklearn.model_selection import GridSearchCV\n",
        "from sklearn.model_selection import RandomizedSearchCV\n",
        "\n",
        "from sklearn.preprocessing import StandardScaler\n",
        "from sklearn.preprocessing import RobustScaler\n"
      ]
    },
    {
      "cell_type": "code",
      "execution_count": null,
      "metadata": {
        "id": "LoH-1-nyRfM8"
      },
      "outputs": [],
      "source": [
        "qty_df = pd.read_csv('/content/Production Quantity.csv')\n",
        "ppt_df = pd.read_csv('/content/Daily Precipitation.csv')\n",
        "sm_df = pd.read_csv('/content/Daily Soil Mositure.csv')\n",
        "temp_df = pd.read_csv('/content/Daily Temperature.csv')\n",
        "ndvi_df = pd.read_csv('/content/Eight Day NDVI.csv')"
      ]
    },
    {
      "cell_type": "code",
      "execution_count": null,
      "metadata": {
        "id": "UPv_gysjjqrz"
      },
      "outputs": [],
      "source": [
        "## Precipitation"
      ]
    },
    {
      "cell_type": "code",
      "execution_count": null,
      "metadata": {
        "id": "3VuD7PsIRlCV"
      },
      "outputs": [],
      "source": [
        "ppt_df.info()"
      ]
    },
    {
      "cell_type": "code",
      "execution_count": null,
      "metadata": {
        "id": "U65XBfQ7ioPV"
      },
      "outputs": [],
      "source": [
        "def create_date_month(df):\n",
        "  df['start_date'] = pd.to_datetime(df['start_date'])\n",
        "  df['start'] = df['start_date'].dt.date\n",
        "  df['month_year'] = df['start_date'].dt.strftime('%m-%Y')\n",
        "  return df"
      ]
    },
    {
      "cell_type": "code",
      "source": [
        "ppt_df = create_date_month(ppt_df)"
      ],
      "metadata": {
        "id": "jmyZ-JMXI_kd"
      },
      "execution_count": null,
      "outputs": []
    },
    {
      "cell_type": "code",
      "execution_count": null,
      "metadata": {
        "id": "M0Umpmp0SB0G"
      },
      "outputs": [],
      "source": [
        "ppt_df['start_date'] = pd.to_datetime(ppt_df['start_date'])\n",
        "ppt_df['start'] = ppt_df['start_date'].dt.date"
      ]
    },
    {
      "cell_type": "code",
      "execution_count": null,
      "metadata": {
        "id": "NkUFfYS-bynP"
      },
      "outputs": [],
      "source": [
        "ppt_df"
      ]
    },
    {
      "cell_type": "code",
      "execution_count": null,
      "metadata": {
        "id": "tGel4ChwVbzO"
      },
      "outputs": [],
      "source": [
        "#calculate sum of precipitation grouped by month\n",
        "precipitation_df = ppt_df.groupby(['month_year','region_id'])['precip'].sum()\n",
        "precipitation_df = precipitation_df.reset_index()"
      ]
    },
    {
      "cell_type": "code",
      "source": [
        "qty_df = create_date_month(qty_df)"
      ],
      "metadata": {
        "id": "kiFUSCBbJWLZ"
      },
      "execution_count": null,
      "outputs": []
    },
    {
      "cell_type": "code",
      "execution_count": null,
      "metadata": {
        "id": "uQrp2RpejnDF"
      },
      "outputs": [],
      "source": [
        "## Soil moisture"
      ]
    },
    {
      "cell_type": "code",
      "execution_count": null,
      "metadata": {
        "id": "w19hNoEBh3ub"
      },
      "outputs": [],
      "source": [
        "sm_df = create_date_month(sm_df)"
      ]
    },
    {
      "cell_type": "code",
      "execution_count": null,
      "metadata": {
        "id": "MMzIl6nbiUs8"
      },
      "outputs": [],
      "source": [
        "#calculate avg of moisture grouped by month\n",
        "moisture_df = sm_df.groupby(['month_year','region_id'])['smos'].mean()\n",
        "moisture_df = moisture_df.reset_index()\n"
      ]
    },
    {
      "cell_type": "code",
      "execution_count": null,
      "metadata": {
        "id": "jIDoFyW9qinn"
      },
      "outputs": [],
      "source": [
        "Data_df = pd.merge(precipitation_df,moisture_df,on=['month_year','region_id'])"
      ]
    },
    {
      "cell_type": "code",
      "execution_count": null,
      "metadata": {
        "id": "_T2q6q5ojh95"
      },
      "outputs": [],
      "source": [
        "## Temperature"
      ]
    },
    {
      "cell_type": "code",
      "execution_count": null,
      "metadata": {
        "id": "chs51ehzmlYR"
      },
      "outputs": [],
      "source": [
        "temp_df = create_date_month(temp_df)"
      ]
    },
    {
      "cell_type": "code",
      "execution_count": null,
      "metadata": {
        "id": "eDdCVRe29lDO"
      },
      "outputs": [],
      "source": [
        "#calculate avg of temp grouped by month\n",
        "mean_temperature_df = temp_df.groupby(['month_year','region_id'])['temp'].mean()\n",
        "mean_temperature_df = mean_temperature_df.reset_index()"
      ]
    },
    {
      "cell_type": "code",
      "execution_count": null,
      "metadata": {
        "id": "23L3WA1Z9lDO"
      },
      "outputs": [],
      "source": [
        "## Creating a feature called max temperature\n",
        "temp_df['max_temp']= temp_df.groupby(['month_year','region_id'])['temp'].transform(max)"
      ]
    },
    {
      "cell_type": "code",
      "execution_count": null,
      "metadata": {
        "id": "jRO4uVVx9lDP"
      },
      "outputs": [],
      "source": [
        "max_temp_df = temp_df[['region_id','month_year','max_temp']]\n",
        "max_temp_df = max_temp_df.drop_duplicates()"
      ]
    },
    {
      "cell_type": "code",
      "execution_count": null,
      "metadata": {
        "id": "4rnSoBSe9lDP"
      },
      "outputs": [],
      "source": [
        "temperature_df = pd.merge(mean_temperature_df,max_temp_df,on=['month_year','region_id'])"
      ]
    },
    {
      "cell_type": "code",
      "execution_count": null,
      "metadata": {
        "scrolled": true,
        "colab": {
          "base_uri": "https://localhost:8080/",
          "height": 424
        },
        "id": "_xB7_qJH9lDP",
        "outputId": "942dbf67-c95d-4b41-a53f-fc5b72928ec8"
      },
      "outputs": [
        {
          "output_type": "execute_result",
          "data": {
            "text/plain": [
              "    month_year  region_id       temp   max_temp\n",
              "0      01-2014         93  25.482158  30.196658\n",
              "1      01-2014         94  25.857623  29.822020\n",
              "2      01-2014         95  22.430714  26.503133\n",
              "3      01-2014         97  25.554444  28.656484\n",
              "4      01-2014         98  23.789993  26.682990\n",
              "..         ...        ...        ...        ...\n",
              "985    12-2021         99  25.431461  28.611530\n",
              "986    12-2021        102  24.178574  26.361874\n",
              "987    12-2021        103  24.978023  26.087139\n",
              "988    12-2021        104  27.759955  30.140744\n",
              "989    12-2021        105  24.857478  26.309632\n",
              "\n",
              "[990 rows x 4 columns]"
            ],
            "text/html": [
              "\n",
              "  <div id=\"df-b4d94b49-2ed2-401b-b721-821c2c71e22b\">\n",
              "    <div class=\"colab-df-container\">\n",
              "      <div>\n",
              "<style scoped>\n",
              "    .dataframe tbody tr th:only-of-type {\n",
              "        vertical-align: middle;\n",
              "    }\n",
              "\n",
              "    .dataframe tbody tr th {\n",
              "        vertical-align: top;\n",
              "    }\n",
              "\n",
              "    .dataframe thead th {\n",
              "        text-align: right;\n",
              "    }\n",
              "</style>\n",
              "<table border=\"1\" class=\"dataframe\">\n",
              "  <thead>\n",
              "    <tr style=\"text-align: right;\">\n",
              "      <th></th>\n",
              "      <th>month_year</th>\n",
              "      <th>region_id</th>\n",
              "      <th>temp</th>\n",
              "      <th>max_temp</th>\n",
              "    </tr>\n",
              "  </thead>\n",
              "  <tbody>\n",
              "    <tr>\n",
              "      <th>0</th>\n",
              "      <td>01-2014</td>\n",
              "      <td>93</td>\n",
              "      <td>25.482158</td>\n",
              "      <td>30.196658</td>\n",
              "    </tr>\n",
              "    <tr>\n",
              "      <th>1</th>\n",
              "      <td>01-2014</td>\n",
              "      <td>94</td>\n",
              "      <td>25.857623</td>\n",
              "      <td>29.822020</td>\n",
              "    </tr>\n",
              "    <tr>\n",
              "      <th>2</th>\n",
              "      <td>01-2014</td>\n",
              "      <td>95</td>\n",
              "      <td>22.430714</td>\n",
              "      <td>26.503133</td>\n",
              "    </tr>\n",
              "    <tr>\n",
              "      <th>3</th>\n",
              "      <td>01-2014</td>\n",
              "      <td>97</td>\n",
              "      <td>25.554444</td>\n",
              "      <td>28.656484</td>\n",
              "    </tr>\n",
              "    <tr>\n",
              "      <th>4</th>\n",
              "      <td>01-2014</td>\n",
              "      <td>98</td>\n",
              "      <td>23.789993</td>\n",
              "      <td>26.682990</td>\n",
              "    </tr>\n",
              "    <tr>\n",
              "      <th>...</th>\n",
              "      <td>...</td>\n",
              "      <td>...</td>\n",
              "      <td>...</td>\n",
              "      <td>...</td>\n",
              "    </tr>\n",
              "    <tr>\n",
              "      <th>985</th>\n",
              "      <td>12-2021</td>\n",
              "      <td>99</td>\n",
              "      <td>25.431461</td>\n",
              "      <td>28.611530</td>\n",
              "    </tr>\n",
              "    <tr>\n",
              "      <th>986</th>\n",
              "      <td>12-2021</td>\n",
              "      <td>102</td>\n",
              "      <td>24.178574</td>\n",
              "      <td>26.361874</td>\n",
              "    </tr>\n",
              "    <tr>\n",
              "      <th>987</th>\n",
              "      <td>12-2021</td>\n",
              "      <td>103</td>\n",
              "      <td>24.978023</td>\n",
              "      <td>26.087139</td>\n",
              "    </tr>\n",
              "    <tr>\n",
              "      <th>988</th>\n",
              "      <td>12-2021</td>\n",
              "      <td>104</td>\n",
              "      <td>27.759955</td>\n",
              "      <td>30.140744</td>\n",
              "    </tr>\n",
              "    <tr>\n",
              "      <th>989</th>\n",
              "      <td>12-2021</td>\n",
              "      <td>105</td>\n",
              "      <td>24.857478</td>\n",
              "      <td>26.309632</td>\n",
              "    </tr>\n",
              "  </tbody>\n",
              "</table>\n",
              "<p>990 rows × 4 columns</p>\n",
              "</div>\n",
              "      <button class=\"colab-df-convert\" onclick=\"convertToInteractive('df-b4d94b49-2ed2-401b-b721-821c2c71e22b')\"\n",
              "              title=\"Convert this dataframe to an interactive table.\"\n",
              "              style=\"display:none;\">\n",
              "        \n",
              "  <svg xmlns=\"http://www.w3.org/2000/svg\" height=\"24px\"viewBox=\"0 0 24 24\"\n",
              "       width=\"24px\">\n",
              "    <path d=\"M0 0h24v24H0V0z\" fill=\"none\"/>\n",
              "    <path d=\"M18.56 5.44l.94 2.06.94-2.06 2.06-.94-2.06-.94-.94-2.06-.94 2.06-2.06.94zm-11 1L8.5 8.5l.94-2.06 2.06-.94-2.06-.94L8.5 2.5l-.94 2.06-2.06.94zm10 10l.94 2.06.94-2.06 2.06-.94-2.06-.94-.94-2.06-.94 2.06-2.06.94z\"/><path d=\"M17.41 7.96l-1.37-1.37c-.4-.4-.92-.59-1.43-.59-.52 0-1.04.2-1.43.59L10.3 9.45l-7.72 7.72c-.78.78-.78 2.05 0 2.83L4 21.41c.39.39.9.59 1.41.59.51 0 1.02-.2 1.41-.59l7.78-7.78 2.81-2.81c.8-.78.8-2.07 0-2.86zM5.41 20L4 18.59l7.72-7.72 1.47 1.35L5.41 20z\"/>\n",
              "  </svg>\n",
              "      </button>\n",
              "      \n",
              "  <style>\n",
              "    .colab-df-container {\n",
              "      display:flex;\n",
              "      flex-wrap:wrap;\n",
              "      gap: 12px;\n",
              "    }\n",
              "\n",
              "    .colab-df-convert {\n",
              "      background-color: #E8F0FE;\n",
              "      border: none;\n",
              "      border-radius: 50%;\n",
              "      cursor: pointer;\n",
              "      display: none;\n",
              "      fill: #1967D2;\n",
              "      height: 32px;\n",
              "      padding: 0 0 0 0;\n",
              "      width: 32px;\n",
              "    }\n",
              "\n",
              "    .colab-df-convert:hover {\n",
              "      background-color: #E2EBFA;\n",
              "      box-shadow: 0px 1px 2px rgba(60, 64, 67, 0.3), 0px 1px 3px 1px rgba(60, 64, 67, 0.15);\n",
              "      fill: #174EA6;\n",
              "    }\n",
              "\n",
              "    [theme=dark] .colab-df-convert {\n",
              "      background-color: #3B4455;\n",
              "      fill: #D2E3FC;\n",
              "    }\n",
              "\n",
              "    [theme=dark] .colab-df-convert:hover {\n",
              "      background-color: #434B5C;\n",
              "      box-shadow: 0px 1px 3px 1px rgba(0, 0, 0, 0.15);\n",
              "      filter: drop-shadow(0px 1px 2px rgba(0, 0, 0, 0.3));\n",
              "      fill: #FFFFFF;\n",
              "    }\n",
              "  </style>\n",
              "\n",
              "      <script>\n",
              "        const buttonEl =\n",
              "          document.querySelector('#df-b4d94b49-2ed2-401b-b721-821c2c71e22b button.colab-df-convert');\n",
              "        buttonEl.style.display =\n",
              "          google.colab.kernel.accessAllowed ? 'block' : 'none';\n",
              "\n",
              "        async function convertToInteractive(key) {\n",
              "          const element = document.querySelector('#df-b4d94b49-2ed2-401b-b721-821c2c71e22b');\n",
              "          const dataTable =\n",
              "            await google.colab.kernel.invokeFunction('convertToInteractive',\n",
              "                                                     [key], {});\n",
              "          if (!dataTable) return;\n",
              "\n",
              "          const docLinkHtml = 'Like what you see? Visit the ' +\n",
              "            '<a target=\"_blank\" href=https://colab.research.google.com/notebooks/data_table.ipynb>data table notebook</a>'\n",
              "            + ' to learn more about interactive tables.';\n",
              "          element.innerHTML = '';\n",
              "          dataTable['output_type'] = 'display_data';\n",
              "          await google.colab.output.renderOutput(dataTable, element);\n",
              "          const docLink = document.createElement('div');\n",
              "          docLink.innerHTML = docLinkHtml;\n",
              "          element.appendChild(docLink);\n",
              "        }\n",
              "      </script>\n",
              "    </div>\n",
              "  </div>\n",
              "  "
            ]
          },
          "metadata": {},
          "execution_count": 257
        }
      ],
      "source": [
        "temperature_df"
      ]
    },
    {
      "cell_type": "code",
      "execution_count": null,
      "metadata": {
        "id": "XhEl6YT29lDP"
      },
      "outputs": [],
      "source": [
        "Data_df = pd.merge(Data_df,temperature_df,on=['month_year','region_id'])"
      ]
    },
    {
      "cell_type": "code",
      "execution_count": null,
      "metadata": {
        "id": "7jSYDd21n7Tn"
      },
      "outputs": [],
      "source": [
        "## NDVI"
      ]
    },
    {
      "cell_type": "code",
      "execution_count": null,
      "metadata": {
        "id": "OPSMCLWkoHfW"
      },
      "outputs": [],
      "source": [
        "ndvi_df = create_date_month(ndvi_df)"
      ]
    },
    {
      "cell_type": "code",
      "execution_count": null,
      "metadata": {
        "id": "icV3D8zq9lDQ"
      },
      "outputs": [],
      "source": [
        "from matplotlib import rcParams\n",
        "rcParams['figure.figsize'] = 15,8"
      ]
    },
    {
      "cell_type": "code",
      "execution_count": null,
      "metadata": {
        "colab": {
          "base_uri": "https://localhost:8080/",
          "height": 518
        },
        "id": "Ce6yWebM9lDQ",
        "outputId": "482b792f-c17b-489a-9f5d-5c888f46e3af"
      },
      "outputs": [
        {
          "output_type": "execute_result",
          "data": {
            "text/plain": [
              "<matplotlib.axes._subplots.AxesSubplot at 0x7f295abe5550>"
            ]
          },
          "metadata": {},
          "execution_count": 261
        },
        {
          "output_type": "display_data",
          "data": {
            "text/plain": [
              "<Figure size 1080x576 with 1 Axes>"
            ],
            "image/png": "[encoded data removed]"
          },
          "metadata": {
            "needs_background": "light"
          }
        }
      ],
      "source": [
        "reg_2014 = ndvi_df[(ndvi_df['month_year'].str[-4:] == '2017') ]\n",
        "sns.lineplot(data=reg_2014, x=\"month_year\", y=\"ndvi\")"
      ]
    },
    {
      "cell_type": "code",
      "execution_count": null,
      "metadata": {
        "colab": {
          "base_uri": "https://localhost:8080/",
          "height": 515
        },
        "id": "FVknHzGt9lDQ",
        "outputId": "2e1b99c8-234d-43c2-cdfc-a4de5c3e34e5"
      },
      "outputs": [
        {
          "output_type": "execute_result",
          "data": {
            "text/plain": [
              "<matplotlib.axes._subplots.AxesSubplot at 0x7f29515e33d0>"
            ]
          },
          "metadata": {},
          "execution_count": 262
        },
        {
          "output_type": "display_data",
          "data": {
            "text/plain": [
              "<Figure size 1080x576 with 1 Axes>"
            ],
            "image/png": "[encoded data removed]"
          },
          "metadata": {
            "needs_background": "light"
          }
        }
      ],
      "source": [
        "#reg_93 = ndvi_df[(ndvi_df['region_id']==93) & (ndvi_df['month_year'].str[-4:] == '2015') ]\n",
        "reg_93 = ndvi_df[(ndvi_df['month_year'].str[-4:] == '2018') ]\n",
        "sns.lineplot(data=reg_93, x=\"month_year\", y=\"ndvi\",hue = 'region_id')"
      ]
    },
    {
      "cell_type": "markdown",
      "metadata": {
        "id": "kZyQJe6l9lDQ"
      },
      "source": [
        "## From the above plots we can see that crop growth is maximum around June just before harvesting when the harvesting period begins.\n",
        "## We will create a feature called maximum_ndvi which should represent the final amount  of crop for that region before harvesting "
      ]
    },
    {
      "cell_type": "code",
      "execution_count": null,
      "metadata": {
        "id": "9GZQt4vZoR1c"
      },
      "outputs": [],
      "source": [
        "#calculate avg of NDVI grouped by month\n",
        "NDVI_df = ndvi_df.groupby(['month_year','region_id'])['ndvi'].mean()\n",
        "NDVI_df = NDVI_df.reset_index()"
      ]
    },
    {
      "cell_type": "code",
      "execution_count": null,
      "metadata": {
        "id": "J2Dd5ODpomQE",
        "scrolled": true
      },
      "outputs": [],
      "source": [
        "NDVI_df"
      ]
    },
    {
      "cell_type": "code",
      "execution_count": null,
      "metadata": {
        "id": "AV7n4JQh9lDS"
      },
      "outputs": [],
      "source": [
        "ndvi_df['max_ndvi']= ndvi_df.groupby(['month_year','region_id'])['ndvi'].transform(max)"
      ]
    },
    {
      "cell_type": "code",
      "execution_count": null,
      "metadata": {
        "id": "_KZRblGt9lDS"
      },
      "outputs": [],
      "source": [
        "max_ndvi_df = ndvi_df[['region_id','month_year','max_ndvi']]\n",
        "max_ndvi_df = max_ndvi_df.drop_duplicates()"
      ]
    },
    {
      "cell_type": "code",
      "execution_count": null,
      "metadata": {
        "id": "T_M-H8BI9lDS"
      },
      "outputs": [],
      "source": [
        "NDVI_df = pd.merge(NDVI_df,max_ndvi_df,on=['month_year','region_id'])"
      ]
    },
    {
      "cell_type": "code",
      "execution_count": null,
      "metadata": {
        "id": "n2VbRATqo2SF"
      },
      "outputs": [],
      "source": [
        "## Merge with Data_df\n",
        "Data_df = pd.merge(Data_df,NDVI_df,on=['month_year','region_id'],how='left')"
      ]
    },
    {
      "cell_type": "code",
      "execution_count": null,
      "metadata": {
        "id": "Kqhk97pD9lDS"
      },
      "outputs": [],
      "source": [
        "Data_df"
      ]
    },
    {
      "cell_type": "code",
      "execution_count": null,
      "metadata": {
        "id": "aqggalirt_Qm"
      },
      "outputs": [],
      "source": [
        "Data_df[Data_df['ndvi'].isna()]"
      ]
    },
    {
      "cell_type": "code",
      "execution_count": null,
      "metadata": {
        "id": "f-WQsqdIuAj-"
      },
      "outputs": [],
      "source": [
        "## dropping years 2014 and 2022 rows from Data_df\n",
        "Train_test_data = Data_df[(Data_df['month_year'].str[-4:] != '2014') & (Data_df['month_year'].str[-4:] != '2022') ]\n"
      ]
    },
    {
      "cell_type": "code",
      "execution_count": null,
      "metadata": {
        "id": "tlCR9kMy9lDS"
      },
      "outputs": [],
      "source": [
        "value = Train_test_data[Train_test_data['month_year']=='11-2016']['ndvi'].mean()\n",
        "Train_test_data['ndvi'].fillna(value= value,inplace=True)"
      ]
    },
    {
      "cell_type": "code",
      "execution_count": null,
      "metadata": {
        "id": "MWdDNU5O9lDS"
      },
      "outputs": [],
      "source": [
        "value2 = Train_test_data[Train_test_data['month_year']=='11-2016']['ndvi'].max()\n",
        "Train_test_data['max_ndvi'].fillna(value= value2,inplace=True)"
      ]
    },
    {
      "cell_type": "code",
      "execution_count": null,
      "metadata": {
        "id": "pYPS279jDmK2"
      },
      "outputs": [],
      "source": [
        "Train_test_data.info()"
      ]
    },
    {
      "cell_type": "code",
      "source": [
        "sns.heatmap(Train_test_data.corr())"
      ],
      "metadata": {
        "colab": {
          "base_uri": "https://localhost:8080/",
          "height": 505
        },
        "id": "lh2ko0to4a35",
        "outputId": "aa5cc293-d4d4-4e04-ed46-afd6c49b896c"
      },
      "execution_count": null,
      "outputs": [
        {
          "output_type": "execute_result",
          "data": {
            "text/plain": [
              "<matplotlib.axes._subplots.AxesSubplot at 0x7f29513c26d0>"
            ]
          },
          "metadata": {},
          "execution_count": 275
        },
        {
          "output_type": "display_data",
          "data": {
            "text/plain": [
              "<Figure size 1080x576 with 2 Axes>"
            ],
            "image/png": "[encoded data removed]"
          },
          "metadata": {
            "needs_background": "light"
          }
        }
      ]
    },
    {
      "cell_type": "code",
      "execution_count": null,
      "metadata": {
        "id": "f1Tm4ufAyer1"
      },
      "outputs": [],
      "source": [
        "## Split Train and Test data\n",
        "train_feat = Train_test_data[(Train_test_data['month_year'].str[-4:] != '2021')]\n",
        "train_data = pd.merge(train_feat,qty_df,on=['month_year','region_id'])\n",
        "test_data = Train_test_data[(Train_test_data['month_year'].str[-4:] == '2021')]"
      ]
    },
    {
      "cell_type": "code",
      "execution_count": null,
      "metadata": {
        "id": "8sQcUuXszH3Q"
      },
      "outputs": [],
      "source": [
        "train_data = train_data.drop(['start_date','end_date','start','month_year'],axis = 1)"
      ]
    },
    {
      "cell_type": "code",
      "execution_count": null,
      "metadata": {
        "id": "mYaYTLO8zQuI"
      },
      "outputs": [],
      "source": [
        "test_data = test_data.drop(['month_year'],axis=1)"
      ]
    },
    {
      "cell_type": "code",
      "execution_count": null,
      "metadata": {
        "id": "nGPxp2_bErbA"
      },
      "outputs": [],
      "source": [
        "## encoding region_id as it is a categorical variable\n",
        "from sklearn.preprocessing import OneHotEncoder\n",
        "def one_hot_encode(df):\n",
        "  new_df = pd.get_dummies(df, columns=['region_id'])\n",
        "  return new_df\n",
        "\n",
        "train_data = one_hot_encode(train_data)\n",
        "X_test = one_hot_encode(test_data)\n"
      ]
    },
    {
      "cell_type": "code",
      "execution_count": null,
      "metadata": {
        "id": "2Q26SqERE_98"
      },
      "outputs": [],
      "source": [
        "y = train_data['prod']\n",
        "y=pd.DataFrame(y)\n",
        "train_data = train_data.drop(['prod'],axis=1)"
      ]
    },
    {
      "cell_type": "code",
      "source": [
        "train_data.describe()"
      ],
      "metadata": {
        "id": "ickwZVymHJB1"
      },
      "execution_count": null,
      "outputs": []
    },
    {
      "cell_type": "code",
      "execution_count": null,
      "metadata": {
        "id": "y9jz5RIwzZKR"
      },
      "outputs": [],
      "source": [
        "## standardize train and validation data since there are high standard deviation"
      ]
    },
    {
      "cell_type": "code",
      "source": [
        "scaler = RobustScaler(copy = True)\n",
        "train1_data = scaler.fit_transform(train_data)\n",
        "train_data = pd.DataFrame(train1_data,columns = train_data.columns)"
      ],
      "metadata": {
        "id": "Sm9B6idRFKQU"
      },
      "execution_count": null,
      "outputs": []
    },
    {
      "cell_type": "code",
      "source": [
        "scaler = RobustScaler(copy = True)\n",
        "test1_data = scaler.fit_transform(X_test)\n",
        "X_test = pd.DataFrame(test1_data,columns = X_test.columns)"
      ],
      "metadata": {
        "id": "D0245rYLKpvz"
      },
      "execution_count": null,
      "outputs": []
    },
    {
      "cell_type": "code",
      "source": [
        "train_data.hist(figsize=(25, 20))"
      ],
      "metadata": {
        "id": "i3g9rPi_IxwG"
      },
      "execution_count": null,
      "outputs": []
    },
    {
      "cell_type": "code",
      "source": [
        "y = np.log(y)\n",
        "y.hist(figsize=(5, 5))"
      ],
      "metadata": {
        "id": "zlJrnjTYJDhU"
      },
      "execution_count": null,
      "outputs": []
    },
    {
      "cell_type": "code",
      "source": [
        "train_data.describe()"
      ],
      "metadata": {
        "colab": {
          "base_uri": "https://localhost:8080/",
          "height": 364
        },
        "id": "jFysQMflHNwE",
        "outputId": "f0f69520-8c41-45ba-8d4b-e43ef5bb6403"
      },
      "execution_count": null,
      "outputs": [
        {
          "output_type": "execute_result",
          "data": {
            "text/plain": [
              "           precip        smos        temp    max_temp        ndvi    max_ndvi  \\\n",
              "count  720.000000  720.000000  720.000000  720.000000  720.000000  720.000000   \n",
              "mean     0.071250   -0.027610   -0.008144    0.034075   -0.204419   -0.177103   \n",
              "std      0.748169    0.702630    0.685694    0.841397    0.926064    0.900814   \n",
              "min     -1.380002   -1.992248   -1.714041   -2.737684   -6.050187   -5.674348   \n",
              "25%     -0.486057   -0.534103   -0.515275   -0.504616   -0.586570   -0.582569   \n",
              "50%      0.000000    0.000000    0.000000    0.000000    0.000000    0.000000   \n",
              "75%      0.513943    0.465897    0.484725    0.495384    0.413430    0.417431   \n",
              "max      2.954153    1.720634    2.237516    3.556449    1.314499    1.454388   \n",
              "\n",
              "       region_id_93  region_id_94  region_id_95  region_id_97  region_id_98  \\\n",
              "count    720.000000    720.000000    720.000000    720.000000    720.000000   \n",
              "mean       0.100000      0.100000      0.100000      0.100000      0.100000   \n",
              "std        0.300209      0.300209      0.300209      0.300209      0.300209   \n",
              "min        0.000000      0.000000      0.000000      0.000000      0.000000   \n",
              "25%        0.000000      0.000000      0.000000      0.000000      0.000000   \n",
              "50%        0.000000      0.000000      0.000000      0.000000      0.000000   \n",
              "75%        0.000000      0.000000      0.000000      0.000000      0.000000   \n",
              "max        1.000000      1.000000      1.000000      1.000000      1.000000   \n",
              "\n",
              "       region_id_99  region_id_102  region_id_103  region_id_104  \\\n",
              "count    720.000000     720.000000     720.000000     720.000000   \n",
              "mean       0.100000       0.100000       0.100000       0.100000   \n",
              "std        0.300209       0.300209       0.300209       0.300209   \n",
              "min        0.000000       0.000000       0.000000       0.000000   \n",
              "25%        0.000000       0.000000       0.000000       0.000000   \n",
              "50%        0.000000       0.000000       0.000000       0.000000   \n",
              "75%        0.000000       0.000000       0.000000       0.000000   \n",
              "max        1.000000       1.000000       1.000000       1.000000   \n",
              "\n",
              "       region_id_105  \n",
              "count     720.000000  \n",
              "mean        0.100000  \n",
              "std         0.300209  \n",
              "min         0.000000  \n",
              "25%         0.000000  \n",
              "50%         0.000000  \n",
              "75%         0.000000  \n",
              "max         1.000000  "
            ],
            "text/html": [
              "\n",
              "  <div id=\"df-d9d9cfe2-7eaa-4b58-9c1f-f82621efe7b8\">\n",
              "    <div class=\"colab-df-container\">\n",
              "      <div>\n",
              "<style scoped>\n",
              "    .dataframe tbody tr th:only-of-type {\n",
              "        vertical-align: middle;\n",
              "    }\n",
              "\n",
              "    .dataframe tbody tr th {\n",
              "        vertical-align: top;\n",
              "    }\n",
              "\n",
              "    .dataframe thead th {\n",
              "        text-align: right;\n",
              "    }\n",
              "</style>\n",
              "<table border=\"1\" class=\"dataframe\">\n",
              "  <thead>\n",
              "    <tr style=\"text-align: right;\">\n",
              "      <th></th>\n",
              "      <th>precip</th>\n",
              "      <th>smos</th>\n",
              "      <th>temp</th>\n",
              "      <th>max_temp</th>\n",
              "      <th>ndvi</th>\n",
              "      <th>max_ndvi</th>\n",
              "      <th>region_id_93</th>\n",
              "      <th>region_id_94</th>\n",
              "      <th>region_id_95</th>\n",
              "      <th>region_id_97</th>\n",
              "      <th>region_id_98</th>\n",
              "      <th>region_id_99</th>\n",
              "      <th>region_id_102</th>\n",
              "      <th>region_id_103</th>\n",
              "      <th>region_id_104</th>\n",
              "      <th>region_id_105</th>\n",
              "    </tr>\n",
              "  </thead>\n",
              "  <tbody>\n",
              "    <tr>\n",
              "      <th>count</th>\n",
              "      <td>720.000000</td>\n",
              "      <td>720.000000</td>\n",
              "      <td>720.000000</td>\n",
              "      <td>720.000000</td>\n",
              "      <td>720.000000</td>\n",
              "      <td>720.000000</td>\n",
              "      <td>720.000000</td>\n",
              "      <td>720.000000</td>\n",
              "      <td>720.000000</td>\n",
              "      <td>720.000000</td>\n",
              "      <td>720.000000</td>\n",
              "      <td>720.000000</td>\n",
              "      <td>720.000000</td>\n",
              "      <td>720.000000</td>\n",
              "      <td>720.000000</td>\n",
              "      <td>720.000000</td>\n",
              "    </tr>\n",
              "    <tr>\n",
              "      <th>mean</th>\n",
              "      <td>0.071250</td>\n",
              "      <td>-0.027610</td>\n",
              "      <td>-0.008144</td>\n",
              "      <td>0.034075</td>\n",
              "      <td>-0.204419</td>\n",
              "      <td>-0.177103</td>\n",
              "      <td>0.100000</td>\n",
              "      <td>0.100000</td>\n",
              "      <td>0.100000</td>\n",
              "      <td>0.100000</td>\n",
              "      <td>0.100000</td>\n",
              "      <td>0.100000</td>\n",
              "      <td>0.100000</td>\n",
              "      <td>0.100000</td>\n",
              "      <td>0.100000</td>\n",
              "      <td>0.100000</td>\n",
              "    </tr>\n",
              "    <tr>\n",
              "      <th>std</th>\n",
              "      <td>0.748169</td>\n",
              "      <td>0.702630</td>\n",
              "      <td>0.685694</td>\n",
              "      <td>0.841397</td>\n",
              "      <td>0.926064</td>\n",
              "      <td>0.900814</td>\n",
              "      <td>0.300209</td>\n",
              "      <td>0.300209</td>\n",
              "      <td>0.300209</td>\n",
              "      <td>0.300209</td>\n",
              "      <td>0.300209</td>\n",
              "      <td>0.300209</td>\n",
              "      <td>0.300209</td>\n",
              "      <td>0.300209</td>\n",
              "      <td>0.300209</td>\n",
              "      <td>0.300209</td>\n",
              "    </tr>\n",
              "    <tr>\n",
              "      <th>min</th>\n",
              "      <td>-1.380002</td>\n",
              "      <td>-1.992248</td>\n",
              "      <td>-1.714041</td>\n",
              "      <td>-2.737684</td>\n",
              "      <td>-6.050187</td>\n",
              "      <td>-5.674348</td>\n",
              "      <td>0.000000</td>\n",
              "      <td>0.000000</td>\n",
              "      <td>0.000000</td>\n",
              "      <td>0.000000</td>\n",
              "      <td>0.000000</td>\n",
              "      <td>0.000000</td>\n",
              "      <td>0.000000</td>\n",
              "      <td>0.000000</td>\n",
              "      <td>0.000000</td>\n",
              "      <td>0.000000</td>\n",
              "    </tr>\n",
              "    <tr>\n",
              "      <th>25%</th>\n",
              "      <td>-0.486057</td>\n",
              "      <td>-0.534103</td>\n",
              "      <td>-0.515275</td>\n",
              "      <td>-0.504616</td>\n",
              "      <td>-0.586570</td>\n",
              "      <td>-0.582569</td>\n",
              "      <td>0.000000</td>\n",
              "      <td>0.000000</td>\n",
              "      <td>0.000000</td>\n",
              "      <td>0.000000</td>\n",
              "      <td>0.000000</td>\n",
              "      <td>0.000000</td>\n",
              "      <td>0.000000</td>\n",
              "      <td>0.000000</td>\n",
              "      <td>0.000000</td>\n",
              "      <td>0.000000</td>\n",
              "    </tr>\n",
              "    <tr>\n",
              "      <th>50%</th>\n",
              "      <td>0.000000</td>\n",
              "      <td>0.000000</td>\n",
              "      <td>0.000000</td>\n",
              "      <td>0.000000</td>\n",
              "      <td>0.000000</td>\n",
              "      <td>0.000000</td>\n",
              "      <td>0.000000</td>\n",
              "      <td>0.000000</td>\n",
              "      <td>0.000000</td>\n",
              "      <td>0.000000</td>\n",
              "      <td>0.000000</td>\n",
              "      <td>0.000000</td>\n",
              "      <td>0.000000</td>\n",
              "      <td>0.000000</td>\n",
              "      <td>0.000000</td>\n",
              "      <td>0.000000</td>\n",
              "    </tr>\n",
              "    <tr>\n",
              "      <th>75%</th>\n",
              "      <td>0.513943</td>\n",
              "      <td>0.465897</td>\n",
              "      <td>0.484725</td>\n",
              "      <td>0.495384</td>\n",
              "      <td>0.413430</td>\n",
              "      <td>0.417431</td>\n",
              "      <td>0.000000</td>\n",
              "      <td>0.000000</td>\n",
              "      <td>0.000000</td>\n",
              "      <td>0.000000</td>\n",
              "      <td>0.000000</td>\n",
              "      <td>0.000000</td>\n",
              "      <td>0.000000</td>\n",
              "      <td>0.000000</td>\n",
              "      <td>0.000000</td>\n",
              "      <td>0.000000</td>\n",
              "    </tr>\n",
              "    <tr>\n",
              "      <th>max</th>\n",
              "      <td>2.954153</td>\n",
              "      <td>1.720634</td>\n",
              "      <td>2.237516</td>\n",
              "      <td>3.556449</td>\n",
              "      <td>1.314499</td>\n",
              "      <td>1.454388</td>\n",
              "      <td>1.000000</td>\n",
              "      <td>1.000000</td>\n",
              "      <td>1.000000</td>\n",
              "      <td>1.000000</td>\n",
              "      <td>1.000000</td>\n",
              "      <td>1.000000</td>\n",
              "      <td>1.000000</td>\n",
              "      <td>1.000000</td>\n",
              "      <td>1.000000</td>\n",
              "      <td>1.000000</td>\n",
              "    </tr>\n",
              "  </tbody>\n",
              "</table>\n",
              "</div>\n",
              "      <button class=\"colab-df-convert\" onclick=\"convertToInteractive('df-d9d9cfe2-7eaa-4b58-9c1f-f82621efe7b8')\"\n",
              "              title=\"Convert this dataframe to an interactive table.\"\n",
              "              style=\"display:none;\">\n",
              "        \n",
              "  <svg xmlns=\"http://www.w3.org/2000/svg\" height=\"24px\"viewBox=\"0 0 24 24\"\n",
              "       width=\"24px\">\n",
              "    <path d=\"M0 0h24v24H0V0z\" fill=\"none\"/>\n",
              "    <path d=\"M18.56 5.44l.94 2.06.94-2.06 2.06-.94-2.06-.94-.94-2.06-.94 2.06-2.06.94zm-11 1L8.5 8.5l.94-2.06 2.06-.94-2.06-.94L8.5 2.5l-.94 2.06-2.06.94zm10 10l.94 2.06.94-2.06 2.06-.94-2.06-.94-.94-2.06-.94 2.06-2.06.94z\"/><path d=\"M17.41 7.96l-1.37-1.37c-.4-.4-.92-.59-1.43-.59-.52 0-1.04.2-1.43.59L10.3 9.45l-7.72 7.72c-.78.78-.78 2.05 0 2.83L4 21.41c.39.39.9.59 1.41.59.51 0 1.02-.2 1.41-.59l7.78-7.78 2.81-2.81c.8-.78.8-2.07 0-2.86zM5.41 20L4 18.59l7.72-7.72 1.47 1.35L5.41 20z\"/>\n",
              "  </svg>\n",
              "      </button>\n",
              "      \n",
              "  <style>\n",
              "    .colab-df-container {\n",
              "      display:flex;\n",
              "      flex-wrap:wrap;\n",
              "      gap: 12px;\n",
              "    }\n",
              "\n",
              "    .colab-df-convert {\n",
              "      background-color: #E8F0FE;\n",
              "      border: none;\n",
              "      border-radius: 50%;\n",
              "      cursor: pointer;\n",
              "      display: none;\n",
              "      fill: #1967D2;\n",
              "      height: 32px;\n",
              "      padding: 0 0 0 0;\n",
              "      width: 32px;\n",
              "    }\n",
              "\n",
              "    .colab-df-convert:hover {\n",
              "      background-color: #E2EBFA;\n",
              "      box-shadow: 0px 1px 2px rgba(60, 64, 67, 0.3), 0px 1px 3px 1px rgba(60, 64, 67, 0.15);\n",
              "      fill: #174EA6;\n",
              "    }\n",
              "\n",
              "    [theme=dark] .colab-df-convert {\n",
              "      background-color: #3B4455;\n",
              "      fill: #D2E3FC;\n",
              "    }\n",
              "\n",
              "    [theme=dark] .colab-df-convert:hover {\n",
              "      background-color: #434B5C;\n",
              "      box-shadow: 0px 1px 3px 1px rgba(0, 0, 0, 0.15);\n",
              "      filter: drop-shadow(0px 1px 2px rgba(0, 0, 0, 0.3));\n",
              "      fill: #FFFFFF;\n",
              "    }\n",
              "  </style>\n",
              "\n",
              "      <script>\n",
              "        const buttonEl =\n",
              "          document.querySelector('#df-d9d9cfe2-7eaa-4b58-9c1f-f82621efe7b8 button.colab-df-convert');\n",
              "        buttonEl.style.display =\n",
              "          google.colab.kernel.accessAllowed ? 'block' : 'none';\n",
              "\n",
              "        async function convertToInteractive(key) {\n",
              "          const element = document.querySelector('#df-d9d9cfe2-7eaa-4b58-9c1f-f82621efe7b8');\n",
              "          const dataTable =\n",
              "            await google.colab.kernel.invokeFunction('convertToInteractive',\n",
              "                                                     [key], {});\n",
              "          if (!dataTable) return;\n",
              "\n",
              "          const docLinkHtml = 'Like what you see? Visit the ' +\n",
              "            '<a target=\"_blank\" href=https://colab.research.google.com/notebooks/data_table.ipynb>data table notebook</a>'\n",
              "            + ' to learn more about interactive tables.';\n",
              "          element.innerHTML = '';\n",
              "          dataTable['output_type'] = 'display_data';\n",
              "          await google.colab.output.renderOutput(dataTable, element);\n",
              "          const docLink = document.createElement('div');\n",
              "          docLink.innerHTML = docLinkHtml;\n",
              "          element.appendChild(docLink);\n",
              "        }\n",
              "      </script>\n",
              "    </div>\n",
              "  </div>\n",
              "  "
            ]
          },
          "metadata": {},
          "execution_count": 298
        }
      ]
    },
    {
      "cell_type": "code",
      "execution_count": null,
      "metadata": {
        "id": "SwHKo_prFPJR"
      },
      "outputs": [],
      "source": [
        "## Train validation split\n",
        "from sklearn.model_selection import train_test_split\n",
        "X_train, X_val, y_train, y_val = train_test_split(train_data, y, test_size=0.2, random_state=42)"
      ]
    },
    {
      "cell_type": "code",
      "source": [
        "## Modeling the Data"
      ],
      "metadata": {
        "id": "DjydVHNf-h-_"
      },
      "execution_count": null,
      "outputs": []
    },
    {
      "cell_type": "code",
      "execution_count": null,
      "metadata": {
        "id": "Ao-TAUARGrgN"
      },
      "outputs": [],
      "source": [
        "## Using a XGBoost Regressor model"
      ]
    },
    {
      "cell_type": "code",
      "execution_count": null,
      "metadata": {
        "id": "YyTNUY3vVpZz"
      },
      "outputs": [],
      "source": [
        "import xgboost as xgb\n",
        "regressor=xgb.XGBRegressor(eval_metric='mae')\n",
        "from sklearn.model_selection import GridSearchCV\n",
        "from sklearn.model_selection import RandomizedSearchCV\n",
        "\n",
        "param_grid = {\"max_depth\":    [4, 6,8],\n",
        "              \"n_estimators\": [50,100,200,500],\n",
        "              \"learning_rate\": [0.01, 0.05, 0.1,0.12]}\n",
        "\n",
        "search = GridSearchCV(regressor, param_grid,scoring = 'neg_mean_absolute_percentage_error', cv=5).fit(X_train, y_train)"
      ]
    },
    {
      "cell_type": "code",
      "execution_count": null,
      "metadata": {
        "colab": {
          "base_uri": "https://localhost:8080/"
        },
        "id": "QujAGVTbOjJ5",
        "outputId": "b5a21610-c4b1-4719-c5aa-dad3fe6c0841"
      },
      "outputs": [
        {
          "output_type": "stream",
          "name": "stdout",
          "text": [
            "The best hyperparameters are  {'learning_rate': 0.1, 'max_depth': 4, 'n_estimators': 100}\n"
          ]
        }
      ],
      "source": [
        "print(\"The best hyperparameters are \",search.best_params_)"
      ]
    },
    {
      "cell_type": "code",
      "execution_count": null,
      "metadata": {
        "colab": {
          "base_uri": "https://localhost:8080/"
        },
        "id": "lGOw30NcZ6oy",
        "outputId": "6f73fa83-0b73-4fa3-d4f2-4b7666d53677"
      },
      "outputs": [
        {
          "output_type": "stream",
          "name": "stdout",
          "text": [
            "[01:25:55] WARNING: /workspace/src/objective/regression_obj.cu:152: reg:linear is now deprecated in favor of reg:squarederror.\n"
          ]
        },
        {
          "output_type": "execute_result",
          "data": {
            "text/plain": [
              "XGBRegressor(eval_metric='mae', max_depth=4)"
            ]
          },
          "metadata": {},
          "execution_count": 414
        }
      ],
      "source": [
        "model1=xgb.XGBRegressor(learning_rate = search.best_params_[\"learning_rate\"],\n",
        "                           n_estimators  = search.best_params_[\"n_estimators\"],\n",
        "                           max_depth     = search.best_params_[\"max_depth\"],\n",
        "                           eval_metric='mae')\n",
        "\n",
        "model1.fit(X_train, y_train)"
      ]
    },
    {
      "cell_type": "code",
      "execution_count": null,
      "metadata": {
        "id": "z-VE9pynQ2PO"
      },
      "outputs": [],
      "source": [
        "predictions_xgb = model1.predict(X_val)"
      ]
    },
    {
      "cell_type": "code",
      "source": [
        "y_val = np.array(y_val)"
      ],
      "metadata": {
        "id": "qri3pLmMRihx"
      },
      "execution_count": null,
      "outputs": []
    },
    {
      "cell_type": "code",
      "source": [
        "y_val = np.exp(y_val)"
      ],
      "metadata": {
        "id": "QCH5u6vuT1ZI"
      },
      "execution_count": null,
      "outputs": []
    },
    {
      "cell_type": "code",
      "source": [
        "predictions_xgb = np.exp(predictions_xgb)\n",
        "predictions_xgb = predictions_xgb.reshape(144,1)"
      ],
      "metadata": {
        "id": "y9sExiZqQZUI"
      },
      "execution_count": null,
      "outputs": []
    },
    {
      "cell_type": "code",
      "execution_count": null,
      "metadata": {
        "id": "W-iV68v8aUH-"
      },
      "outputs": [],
      "source": [
        "def mape(true, pred):\n",
        "    abs_error = (np.abs(true - pred)) / true\n",
        "    sum_abs_error = np.sum(abs_error)\n",
        "    mape_loss = (sum_abs_error / true.size) * 100\n",
        "    return mape_loss"
      ]
    },
    {
      "cell_type": "code",
      "execution_count": null,
      "metadata": {
        "id": "6QXDU9C4almm"
      },
      "outputs": [],
      "source": [
        "mpe = round(mape(y_val,predictions_xgb),2)"
      ]
    },
    {
      "cell_type": "code",
      "execution_count": null,
      "metadata": {
        "id": "5rvTMB5DQjHw"
      },
      "outputs": [],
      "source": [
        "from sklearn.metrics import r2_score\n",
        "r2=r2_score(y_val,predictions_xgb)"
      ]
    },
    {
      "cell_type": "code",
      "execution_count": null,
      "metadata": {
        "colab": {
          "base_uri": "https://localhost:8080/"
        },
        "id": "pZt0U1Iu9lDV",
        "outputId": "9d44df20-e89e-493d-9fc6-f7af57186cfe"
      },
      "outputs": [
        {
          "output_type": "stream",
          "name": "stdout",
          "text": [
            "The mape is 15.81\n",
            "The r-squared value is 0.95\n"
          ]
        }
      ],
      "source": [
        "## XGBOOST\n",
        "print(\"The mape is %.2f\" % mpe)\n",
        "print(\"The r-squared value is %.2f\" % r2)"
      ]
    },
    {
      "cell_type": "code",
      "source": [
        "## Using a Gradient Boosting Regressor Model"
      ],
      "metadata": {
        "id": "cNQXWYm1w8Yi"
      },
      "execution_count": null,
      "outputs": []
    },
    {
      "cell_type": "code",
      "execution_count": null,
      "metadata": {
        "id": "PbE-XfUk9lDV"
      },
      "outputs": [],
      "source": [
        "from sklearn.ensemble import GradientBoostingRegressor"
      ]
    },
    {
      "cell_type": "code",
      "source": [
        "GBR = GradientBoostingRegressor()"
      ],
      "metadata": {
        "id": "pkf2IDFiNTm9"
      },
      "execution_count": null,
      "outputs": []
    },
    {
      "cell_type": "code",
      "source": [
        "parameters = {'learning_rate': [0.01,0.02,0.04,0.05],\n",
        "                  'n_estimators' : [100,200,500,800],\n",
        "                  'max_depth'    : [4,6,8]\n",
        "                 }"
      ],
      "metadata": {
        "id": "vbc8GKMhM6_R"
      },
      "execution_count": null,
      "outputs": []
    },
    {
      "cell_type": "code",
      "source": [
        "grid_GBR = GridSearchCV(estimator=GBR, param_grid = parameters, cv = 5, n_jobs=-1)\n",
        "grid_GBR.fit(X_train, y_train)"
      ],
      "metadata": {
        "colab": {
          "base_uri": "https://localhost:8080/"
        },
        "id": "M1T-o6akNQYg",
        "outputId": "96a802fe-fe41-49ac-d938-d04c5e3d13a5"
      },
      "execution_count": null,
      "outputs": [
        {
          "output_type": "stream",
          "name": "stderr",
          "text": [
            "/usr/local/lib/python3.7/dist-packages/sklearn/ensemble/_gb.py:494: DataConversionWarning: A column-vector y was passed when a 1d array was expected. Please change the shape of y to (n_samples, ), for example using ravel().\n",
            "  y = column_or_1d(y, warn=True)\n"
          ]
        },
        {
          "output_type": "execute_result",
          "data": {
            "text/plain": [
              "GridSearchCV(cv=5, estimator=GradientBoostingRegressor(), n_jobs=-1,\n",
              "             param_grid={'learning_rate': [0.01, 0.02, 0.04, 0.05],\n",
              "                         'max_depth': [4, 6, 8],\n",
              "                         'n_estimators': [100, 200, 300, 500, 800, 1000]})"
            ]
          },
          "metadata": {},
          "execution_count": 426
        }
      ]
    },
    {
      "cell_type": "code",
      "source": [
        "print(\"\\n The best parameters across ALL searched params:\\n\",grid_GBR.best_params_)"
      ],
      "metadata": {
        "colab": {
          "base_uri": "https://localhost:8080/"
        },
        "id": "uMEi5hfVNf_P",
        "outputId": "c88a12a9-c3d6-4e12-c14a-134a5edd4ec3"
      },
      "execution_count": null,
      "outputs": [
        {
          "output_type": "stream",
          "name": "stdout",
          "text": [
            "\n",
            " The best parameters across ALL searched params:\n",
            " {'learning_rate': 0.04, 'max_depth': 6, 'n_estimators': 200}\n"
          ]
        }
      ]
    },
    {
      "cell_type": "code",
      "execution_count": null,
      "metadata": {
        "colab": {
          "base_uri": "https://localhost:8080/"
        },
        "id": "lgUi-7J99lDW",
        "outputId": "acdeec6e-e7dd-4403-9dc4-fea984de7b3f"
      },
      "outputs": [
        {
          "output_type": "stream",
          "name": "stderr",
          "text": [
            "/usr/local/lib/python3.7/dist-packages/sklearn/ensemble/_gb.py:494: DataConversionWarning: A column-vector y was passed when a 1d array was expected. Please change the shape of y to (n_samples, ), for example using ravel().\n",
            "  y = column_or_1d(y, warn=True)\n"
          ]
        }
      ],
      "source": [
        "## GBR\n",
        "model2 = GradientBoostingRegressor(n_estimators = 200, max_depth= 6,learning_rate= 0.04 )\n",
        "model2.fit(X_train, y_train)\n",
        "predictions = model2.predict(X_val)\n",
        "predictions = np.exp(predictions)\n",
        "predictions = predictions.reshape(144,1)\n",
        "mpe = round(mape(y_val,predictions),2)\n",
        "r2=r2_score(y_val,predictions)"
      ]
    },
    {
      "cell_type": "code",
      "execution_count": null,
      "metadata": {
        "colab": {
          "base_uri": "https://localhost:8080/"
        },
        "id": "jhzg3eFu9lDW",
        "outputId": "90124c30-668c-4338-9162-f37c87b4e72d"
      },
      "outputs": [
        {
          "output_type": "stream",
          "name": "stdout",
          "text": [
            "The mape is 15.68\n",
            "The r-squared value is 0.96\n"
          ]
        }
      ],
      "source": [
        "## GBR\n",
        "print(\"The mape is %.2f\" % mpe)\n",
        "print(\"The r-squared value is %.2f\" % r2)"
      ]
    },
    {
      "cell_type": "code",
      "source": [
        "for i in np.linspace(0,1,21):\n",
        "    preds = (1-i)*predictions + i*predictions_xgb\n",
        "    print(mape(y_val,preds))"
      ],
      "metadata": {
        "colab": {
          "base_uri": "https://localhost:8080/"
        },
        "id": "AbZnfdRHClpe",
        "outputId": "cceefcef-2650-43cb-8927-9eb39a4fcb17"
      },
      "execution_count": null,
      "outputs": [
        {
          "output_type": "stream",
          "name": "stdout",
          "text": [
            "15.67700839746349\n",
            "15.628500628835202\n",
            "15.592368804456857\n",
            "15.56000752158903\n",
            "15.533996497066568\n",
            "15.511923214754155\n",
            "15.489850344117595\n",
            "15.46974725750028\n",
            "15.462906526803003\n",
            "15.463284421805785\n",
            "15.464418894849718\n",
            "15.46810098765635\n",
            "15.476057161689639\n",
            "15.486591459997737\n",
            "15.499705145141274\n",
            "15.522932148023354\n",
            "15.56679836327165\n",
            "15.617505796544437\n",
            "15.67876496455957\n",
            "15.740457172898065\n",
            "15.8093922490371\n"
          ]
        }
      ]
    },
    {
      "cell_type": "code",
      "source": [
        "## Using a blend of predictions = 0.4*XGBoost and 0.6*Gradient Boosting Regressor since mape is lowest at i=0.4"
      ],
      "metadata": {
        "id": "te9BkZ8WCo-l"
      },
      "execution_count": null,
      "outputs": []
    },
    {
      "cell_type": "code",
      "source": [
        "test_preds_xgb = model1.predict(X_test)\n",
        "test_preds_xgb = np.exp(test_preds_xgb)"
      ],
      "metadata": {
        "id": "BLS1_gcvhg3p"
      },
      "execution_count": null,
      "outputs": []
    },
    {
      "cell_type": "code",
      "source": [
        "test_preds_gbr = model2.predict(X_test)\n",
        "test_preds_gbr = np.exp(test_preds_gbr)"
      ],
      "metadata": {
        "id": "lb6kwFK3axUE"
      },
      "execution_count": null,
      "outputs": []
    },
    {
      "cell_type": "code",
      "source": [
        "test_preds = 0.4*test_preds_xgb + 0.6*test_preds_gbr"
      ],
      "metadata": {
        "id": "L4qjamvGayt3"
      },
      "execution_count": null,
      "outputs": []
    },
    {
      "cell_type": "code",
      "source": [
        "pred_prod_qty_df = pd.read_csv('/content/predicted_production_qty.csv')"
      ],
      "metadata": {
        "id": "2_UumF60ayeV"
      },
      "execution_count": null,
      "outputs": []
    },
    {
      "cell_type": "code",
      "source": [
        "pred_prod_qty_df['prod'] = test_preds"
      ],
      "metadata": {
        "id": "5X38hzOpb6kQ"
      },
      "execution_count": null,
      "outputs": []
    },
    {
      "cell_type": "code",
      "source": [
        "pred_prod_qty_df.to_csv('angshuman96@utexas.edu.csv', index=False)"
      ],
      "metadata": {
        "id": "15N6gjqNckPD"
      },
      "execution_count": null,
      "outputs": []
    },
    {
      "cell_type": "code",
      "source": [],
      "metadata": {
        "id": "y5MOzKq90d1h"
      },
      "execution_count": null,
      "outputs": []
    },
    {
      "cell_type": "code",
      "source": [],
      "metadata": {
        "id": "9dV_lpfR872m"
      },
      "execution_count": null,
      "outputs": []
    }
  ],
  "metadata": {
    "colab": {
      "provenance": []
    },
    "kernelspec": {
      "display_name": "Python 3",
      "language": "python",
      "name": "python3"
    },
    "language_info": {
      "codemirror_mode": {
        "name": "ipython",
        "version": 3
      },
      "file_extension": ".py",
      "mimetype": "text/x-python",
      "name": "python",
      "nbconvert_exporter": "python",
      "pygments_lexer": "ipython3",
      "version": "3.8.8"
    }
  },
  "nbformat": 4,
  "nbformat_minor": 0
}